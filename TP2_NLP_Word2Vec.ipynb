{
  "cells": [
    {
      "cell_type": "markdown",
      "id": "9417ca15",
      "metadata": {
        "id": "9417ca15"
      },
      "source": [
        "## Lecture et Tokenisation\n",
        "\n",
        "\n"
      ]
    },
    {
      "cell_type": "code",
      "execution_count": 7,
      "id": "54d66415",
      "metadata": {
        "colab": {
          "base_uri": "https://localhost:8080/"
        },
        "id": "54d66415",
        "outputId": "09e425a0-3b02-4b38-9a30-97551c191a42"
      },
      "outputs": [
        {
          "output_type": "stream",
          "name": "stdout",
          "text": [
            "le tableau résultat des tokens est :  ['morocco', 'and', 'marrakech', 'tapestry', 'of', 'tradition', 'and', 'modernity', 'morocco', 'located', 'at', 'the', 'crossroads', 'of', 'europe', 'and', 'africa', 'is', 'country', 'drenched', 'in', 'history', 'mystery', 'and', 'cultural', 'richness', 'testament', 'to', 'the', 'ancient', 'civilizations', 'that', 'once', 'flourished', 'here', 'this', 'north', 'african', 'kingdom', 'boasts', 'unique', 'blend', 'of', 'arab', 'berber', 'and', 'european', 'influences', 'at', 'the', 'heart', 'of', 'morocco', 'rich', 'tapestry', 'lies', 'marrakech', 'one', 'of', 'its', 'four', 'imperial', 'cities', 'and', 'vibrant', 'epicenter', 'of', 'tradition', 'and', 'modernity', 'geographical', 'significance', 'morocco', 'is', 'bordered', 'by', 'the', 'atlantic', 'ocean', 'to', 'the', 'west', 'the', 'mediterranean', 'sea', 'to', 'the', 'north', 'algeria', 'to', 'the', 'east', 'and', 'southeast', 'and', 'the', 'vast', 'sahara', 'desert', 'to', 'the', 'south', 'its', 'strategic', 'location', 'has', 'historically', 'made', 'it', 'sought', 'after', 'territory', 'and', 'melting', 'pot', 'of', 'cultures', 'religions', 'and', 'trade', 'routes', 'marrakech', 'the', 'red', 'city', 'marrakech', 'often', 'referred', 'to', 'as', 'the', 'red', 'city', 'due', 'to', 'its', 'distinctive', 'red', 'hued', 'buildings', 'stands', 'against', 'the', 'backdrop', 'of', 'the', 'snow', 'capped', 'atlas', 'mountains', 'established', 'in', 'the', 'th', 'century', 'it', 'has', 'remained', 'crucial', 'political', 'economic', 'and', 'cultural', 'center', 'of', 'morocco', 'journey', 'through', 'the', 'medina', 'marrakech', 'old', 'town', 'the', 'medina', 'is', 'unesco', 'world', 'heritage', 'site', 'and', 'labyrinthine', 'maze', 'of', 'narrow', 'alleys', 'bustling', 'souks', 'and', 'historical', 'landmarks', 'the', 'djemaa', 'el', 'fna', 'square', 'lies', 'at', 'the', 'heart', 'of', 'the', 'medina', 'and', 'comes', 'alive', 'every', 'evening', 'with', 'storytellers', 'musicians', 'snake', 'charmers', 'and', 'food', 'stalls', 'offering', 'tantalizing', 'moroccan', 'delicacies', 'palaces', 'and', 'gardens', 'the', 'city', 'is', 'also', 'home', 'to', 'grand', 'palaces', 'like', 'the', 'bahia', 'palace', 'showcasing', 'intricate', 'islamic', 'architecture', 'and', 'the', 'saadian', 'tombs', 'remnants', 'of', 'the', 'saadian', 'dynasty', 'the', 'majorelle', 'garden', 'restored', 'by', 'the', 'fashion', 'designer', 'yves', 'saint', 'laurent', 'is', 'tranquil', 'oasis', 'of', 'cacti', 'palm', 'trees', 'and', 'cobalt', 'blue', 'accents', 'modern', 'marrakech', 'while', 'tradition', 'and', 'history', 'permeate', 'marrakech', 'the', 'city', 'is', 'not', 'averse', 'to', 'the', 'modern', 'world', 'gueliz', 'the', 'new', 'town', 'is', 'brimming', 'with', 'contemporary', 'art', 'galleries', 'stylish', 'cafes', 'and', 'chic', 'boutiques', 'offering', 'stark', 'contrast', 'to', 'the', 'ancient', 'medina', 'moroccan', 'cuisine', 'no', 'journey', 'through', 'morocco', 'and', 'marrakech', 'would', 'be', 'complete', 'without', 'indulging', 'in', 'the', 'local', 'cuisine', 'tagines', 'couscous', 'and', 'pastilla', 'are', 'just', 'few', 'of', 'the', 'many', 'dishes', 'that', 'combine', 'plethora', 'of', 'flavors', 'and', 'spices', 'like', 'saffron', 'cumin', 'and', 'mint', 'paired', 'with', 'moroccan', 'mint', 'tea', 'the', 'culinary', 'experience', 'is', 'truly', 'unparalleled', 'in', 'conclusion', 'morocco', 'with', 'marrakech', 'at', 'its', 'heart', 'offers', 'travelers', 'an', 'unparalleled', 'journey', 'through', 'time', 'the', 'convergence', 'of', 'history', 'culture', 'architecture', 'and', 'gastronomy', 'makes', 'it', 'an', 'enthralling', 'destination', 'for', 'those', 'seeking', 'both', 'adventure', 'and', 'reflection', 'as', 'the', 'moroccan', 'proverb', 'goes', 'he', 'who', 'does', 'not', 'travel', 'does', 'not', 'know', 'the', 'value', 'of', 'men', 'in', 'the', 'case', 'of', 'morocco', 'and', 'marrakech', 'it', 'not', 'just', 'the', 'value', 'of', 'men', 'but', 'also', 'the', 'value', 'of', 'time', 'tradition', 'and', 'tales', 'that', 'have', 'spanned', 'centuries']\n"
          ]
        }
      ],
      "source": [
        "from gensim.utils import simple_preprocess\n",
        "\n",
        "with open(\"text\", \"r\") as file:\n",
        "    text = file.read()\n",
        "\n",
        "# Tokenisation du texte\n",
        "tokens = simple_preprocess(text)\n",
        "print(\"le tableau résultat des tokens est : \"  , tokens)\n"
      ]
    },
    {
      "cell_type": "markdown",
      "id": "a8b43aad",
      "metadata": {
        "id": "a8b43aad"
      },
      "source": [
        "## Entraînement du modèle Word2Vec"
      ]
    },
    {
      "cell_type": "code",
      "execution_count": 8,
      "id": "ab940e54",
      "metadata": {
        "id": "ab940e54"
      },
      "outputs": [],
      "source": [
        "from gensim.models import Word2Vec\n",
        "\n",
        "model = Word2Vec([tokens], vector_size=100, window=3, min_count=1, sg=1)\n"
      ]
    },
    {
      "cell_type": "markdown",
      "id": "ead1cca8",
      "metadata": {
        "id": "ead1cca8"
      },
      "source": [
        "## Question 1 : la représentation vectorielle d'un mot"
      ]
    },
    {
      "cell_type": "code",
      "execution_count": 21,
      "id": "25cbe642",
      "metadata": {
        "colab": {
          "base_uri": "https://localhost:8080/"
        },
        "id": "25cbe642",
        "outputId": "c7db1df1-6c89-4db3-85c8-43d8a0fa159c"
      },
      "outputs": [
        {
          "output_type": "stream",
          "name": "stdout",
          "text": [
            "Représentation vectorielle du mot 'africa est ': [ 0.00248035  0.00616464 -0.00965734 -0.00115696  0.00522409  0.00677687\n",
            "  0.00690803  0.00295943  0.00664362 -0.00919614  0.00550286 -0.0027887\n",
            "  0.00359856 -0.00949946 -0.00914875  0.00488259 -0.00106201  0.00716497\n",
            " -0.00945549  0.00935388 -0.00589953  0.00068482  0.00479652 -0.00221443\n",
            "  0.00735695  0.00067101 -0.00313034 -0.00120839 -0.00956711 -0.00411296\n",
            " -0.00399684  0.00834196 -0.00996902 -0.00228928  0.00720756  0.00831649\n",
            " -0.00847383  0.00106996 -0.0095042   0.00661354  0.0096304   0.003092\n",
            " -0.00948775 -0.00064336 -0.00148853  0.00431211  0.00700485  0.00439524\n",
            " -0.00918231  0.00756718  0.00272313 -0.00094972 -0.00273707  0.00056096\n",
            " -0.00568355  0.00547375 -0.00909594  0.0002415   0.00212803  0.00243035\n",
            "  0.00918964 -0.00541742  0.00973248  0.00949798 -0.00729869  0.00274078\n",
            "  0.00990688  0.00330701 -0.00246898  0.00526226  0.00479606  0.00578398\n",
            " -0.00315875 -0.00816655 -0.00139491 -0.00237012 -0.00316948  0.00182281\n",
            " -0.00988126  0.00997101 -0.00192903  0.00039949  0.00418527 -0.00962588\n",
            "  0.0041599   0.00942325  0.00906405  0.00127776 -0.00199401 -0.00892097\n",
            "  0.00646781 -0.00306269  0.00865751  0.00941852 -0.00732172 -0.00296024\n",
            "  0.00525873  0.00106509 -0.00247881 -0.00348493]\n"
          ]
        }
      ],
      "source": [
        "# Représentation vectorielle d'un mot\n",
        "word_vector = model.wv['africa']\n",
        "print(\"Représentation vectorielle du mot 'africa est ':\", word_vector)"
      ]
    },
    {
      "cell_type": "markdown",
      "id": "91c4070c",
      "metadata": {
        "id": "91c4070c"
      },
      "source": [
        "## Question 2 : Calcule de la similarité entre deux mots"
      ]
    },
    {
      "cell_type": "code",
      "execution_count": 27,
      "id": "97f1d7f8",
      "metadata": {
        "colab": {
          "base_uri": "https://localhost:8080/"
        },
        "id": "97f1d7f8",
        "outputId": "0cc30f11-a624-4368-97e1-13bb638412f3"
      },
      "outputs": [
        {
          "output_type": "stream",
          "name": "stdout",
          "text": [
            "La Similarité entre 'mountains' et 'morocco est égal à ': 0.2939486\n"
          ]
        }
      ],
      "source": [
        "# Calcul de la similarité entre deux mots\n",
        "similarity = model.wv.similarity('mountains', 'morocco')\n",
        "print(\"La Similarité entre 'mountains' et 'morocco est égal à ':\", similarity)\n"
      ]
    },
    {
      "cell_type": "markdown",
      "id": "c8f3f943",
      "metadata": {
        "id": "c8f3f943"
      },
      "source": [
        "## Question 3 : Extrait des mots contextuels pour un mot central donné"
      ]
    },
    {
      "cell_type": "code",
      "execution_count": 30,
      "id": "8ccab7b8",
      "metadata": {
        "colab": {
          "base_uri": "https://localhost:8080/"
        },
        "id": "8ccab7b8",
        "outputId": "e39a67b1-648a-4928-943d-059f77322c48"
      },
      "outputs": [
        {
          "output_type": "stream",
          "name": "stdout",
          "text": [
            "Mots contextuels pour 'morocco': [('comes', 0.32666152715682983), ('snow', 0.3162696659564972), ('mountains', 0.29394856095314026), ('against', 0.2524332106113434), ('berber', 0.2199128270149231)]\n"
          ]
        }
      ],
      "source": [
        "context_words = model.wv.most_similar('morocco', topn=5)\n",
        "print(\"Mots contextuels pour 'morocco':\", context_words)"
      ]
    }
  ],
  "metadata": {
    "kernelspec": {
      "display_name": "Python 3 (ipykernel)",
      "language": "python",
      "name": "python3"
    },
    "language_info": {
      "codemirror_mode": {
        "name": "ipython",
        "version": 3
      },
      "file_extension": ".py",
      "mimetype": "text/x-python",
      "name": "python",
      "nbconvert_exporter": "python",
      "pygments_lexer": "ipython3",
      "version": "3.11.5"
    },
    "colab": {
      "provenance": []
    }
  },
  "nbformat": 4,
  "nbformat_minor": 5
}